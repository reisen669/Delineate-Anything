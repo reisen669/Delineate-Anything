{
 "cells": [
  {
   "cell_type": "code",
   "execution_count": null,
   "id": "ce993fb6",
   "metadata": {},
   "outputs": [],
   "source": [
    "class IDMapper:\n",
    "    def __init__(self):\n",
    "        self.parent = {}\n",
    "\n",
    "    def find(self, id_):\n",
    "        # If id_ is not in parent, it is its own root\n",
    "        if id_ not in self.parent:\n",
    "            self.parent[id_] = id_\n",
    "        # Path compression\n",
    "        if self.parent[id_] != id_:\n",
    "            self.parent[id_] = self.find(self.parent[id_])\n",
    "        return self.parent[id_]\n",
    "\n",
    "    def union(self, ids):\n",
    "        # Merge all ids to the smallest one\n",
    "        root = min(self.find(id_) for id_ in ids)\n",
    "        for id_ in ids:\n",
    "            self.parent[self.find(id_)] = root\n",
    "\n",
    "    def get_mapping(self):\n",
    "        # Build final mapping with full resolution\n",
    "        return {id_: self.find(id_) for id_ in self.parent}"
   ]
  }
 ],
 "metadata": {
  "jupytext": {
   "cell_metadata_filter": "-all",
   "main_language": "python",
   "notebook_metadata_filter": "-all"
  }
 },
 "nbformat": 4,
 "nbformat_minor": 5
}
